{
 "cells": [
  {
   "cell_type": "markdown",
   "metadata": {},
   "source": [
    "Practice exercises for Control statements.\n",
    "Using (Lambert K.A. - Fundamentals of Python From First Programs through Data Structures.) as a learning guide"
   ]
  },
  {
   "cell_type": "code",
   "execution_count": 6,
   "metadata": {
    "collapsed": false
   },
   "outputs": [
    {
     "name": "stdout",
     "output_type": "stream",
     "text": [
      "Hi\n",
      "Hi\n",
      "Hi\n",
      "Hi\n"
     ]
    }
   ],
   "source": [
    "for i in xrange(4):\n",
    "    print 'Hi'"
   ]
  },
  {
   "cell_type": "code",
   "execution_count": 9,
   "metadata": {
    "collapsed": false
   },
   "outputs": [
    {
     "name": "stdout",
     "output_type": "stream",
     "text": [
      "2\n",
      "4\n",
      "8\n"
     ]
    }
   ],
   "source": [
    "number = 2\n",
    "exponent = 3\n",
    "product = 1\n",
    "\n",
    "for i in xrange(exponent):\n",
    "    product = product * number\n",
    "    print product"
   ]
  },
  {
   "cell_type": "code",
   "execution_count": 12,
   "metadata": {
    "collapsed": false
   },
   "outputs": [
    {
     "name": "stdout",
     "output_type": "stream",
     "text": [
      "1\n",
      "2\n",
      "3\n",
      "4\n"
     ]
    }
   ],
   "source": [
    "for i in xrange(1,5):\n",
    "    print i"
   ]
  },
  {
   "cell_type": "code",
   "execution_count": 17,
   "metadata": {
    "collapsed": false
   },
   "outputs": [
    {
     "name": "stdout",
     "output_type": "stream",
     "text": [
      "Enter lower bound: 1\n",
      "Enter upper bound: 10\n",
      "55\n"
     ]
    }
   ],
   "source": [
    "lower = input(\"Enter lower bound: \")\n",
    "upper= input(\"Enter upper bound: \")\n",
    "sum = 0\n",
    "\n",
    "for i in xrange(lower, upper+1):\n",
    "    sum+=i\n",
    "    \n",
    "print sum"
   ]
  },
  {
   "cell_type": "code",
   "execution_count": 25,
   "metadata": {
    "collapsed": false
   },
   "outputs": [
    {
     "name": "stdout",
     "output_type": "stream",
     "text": [
      "[1, 3, 5, 7, 9]\n"
     ]
    }
   ],
   "source": [
    "print range(1,10,2)"
   ]
  },
  {
   "cell_type": "code",
   "execution_count": 26,
   "metadata": {
    "collapsed": false
   },
   "outputs": [
    {
     "data": {
      "text/plain": [
       "'  four'"
      ]
     },
     "execution_count": 26,
     "metadata": {},
     "output_type": "execute_result"
    }
   ],
   "source": [
    "\"%6s\" % \"four\""
   ]
  },
  {
   "cell_type": "code",
   "execution_count": 27,
   "metadata": {
    "collapsed": false
   },
   "outputs": [
    {
     "data": {
      "text/plain": [
       "'four  '"
      ]
     },
     "execution_count": 27,
     "metadata": {},
     "output_type": "execute_result"
    }
   ],
   "source": [
    "\"%-6s\" % \"four\""
   ]
  },
  {
   "cell_type": "code",
   "execution_count": 32,
   "metadata": {
    "collapsed": false
   },
   "outputs": [
    {
     "data": {
      "text/plain": [
       "'322.140'"
      ]
     },
     "execution_count": 32,
     "metadata": {},
     "output_type": "execute_result"
    }
   ],
   "source": [
    "\"%0.3f\" % 322.14"
   ]
  },
  {
   "cell_type": "code",
   "execution_count": 43,
   "metadata": {
    "collapsed": false
   },
   "outputs": [
    {
     "name": "stdout",
     "output_type": "stream",
     "text": [
      "Enter amount to be invested: 1500\n",
      "Enter no of years: 10\n",
      "Enter interest rate as %: 10\n",
      "Year  Starting Balance  Interest  Ending Balance\n",
      "   1           1500.00    150.00         1650.00\n",
      "   2           1650.00    165.00         1815.00\n",
      "   3           1815.00    181.50         1996.50\n",
      "   4           1996.50    199.65         2196.15\n",
      "   5           2196.15    219.62         2415.77\n",
      "   6           2415.77    241.58         2657.34\n",
      "   7           2657.34    265.73         2923.08\n",
      "   8           2923.08    292.31         3215.38\n",
      "   9           3215.38    321.54         3536.92\n",
      "  10           3536.92    353.69         3890.61\n"
     ]
    }
   ],
   "source": [
    "invest_amount = input(\"Enter amount to be invested: \")\n",
    "no_of_year = input(\"Enter no of years: \")\n",
    "interest_rate = input(\"Enter interest rate as %: \")\n",
    "total_interest = 0\n",
    "\n",
    "interest_rate = interest_rate/100.0\n",
    "print '%4s%18s%10s%16s' % ('Year','Starting Balance','Interest','Ending Balance')\n",
    "\n",
    "for year in xrange(1,no_of_year+1):\n",
    "    interest = invest_amount * interest_rate\n",
    "    endbalance = invest_amount + interest\n",
    "    print '%4s%18.2f%10.2f%16.2f' % (year,invest_amount,interest,endbalance)\n",
    "    invest_amount = endbalance\n",
    "    total_interest+=interest\n",
    "    \n"
   ]
  },
  {
   "cell_type": "code",
   "execution_count": 49,
   "metadata": {
    "collapsed": false
   },
   "outputs": [
    {
     "data": {
      "text/plain": [
       "True"
      ]
     },
     "execution_count": 49,
     "metadata": {},
     "output_type": "execute_result"
    }
   ],
   "source": [
    "4 == 4"
   ]
  },
  {
   "cell_type": "code",
   "execution_count": 50,
   "metadata": {
    "collapsed": false
   },
   "outputs": [
    {
     "data": {
      "text/plain": [
       "5"
      ]
     },
     "execution_count": 50,
     "metadata": {},
     "output_type": "execute_result"
    }
   ],
   "source": [
    "max(2,5)"
   ]
  },
  {
   "cell_type": "code",
   "execution_count": 55,
   "metadata": {
    "collapsed": false
   },
   "outputs": [
    {
     "name": "stdout",
     "output_type": "stream",
     "text": [
      "Enter a number: 2\n",
      "Is okay\n"
     ]
    }
   ],
   "source": [
    "number = input(\"Enter a number: \")\n",
    "if number < 0 and number > 100:\n",
    "    print 'Out of range'\n",
    "else:\n",
    "    print 'Is okay'"
   ]
  },
  {
   "cell_type": "code",
   "execution_count": 56,
   "metadata": {
    "collapsed": false
   },
   "outputs": [
    {
     "data": {
      "text/plain": [
       "False"
      ]
     },
     "execution_count": 56,
     "metadata": {},
     "output_type": "execute_result"
    }
   ],
   "source": [
    "A = True\n",
    "not A"
   ]
  },
  {
   "cell_type": "code",
   "execution_count": 62,
   "metadata": {
    "collapsed": false
   },
   "outputs": [
    {
     "data": {
      "text/plain": [
       "6"
      ]
     },
     "execution_count": 62,
     "metadata": {},
     "output_type": "execute_result"
    }
   ],
   "source": [
    "import random\n",
    "random.randint(1,10)"
   ]
  },
  {
   "cell_type": "code",
   "execution_count": 64,
   "metadata": {
    "collapsed": false
   },
   "outputs": [
    {
     "name": "stdout",
     "output_type": "stream",
     "text": [
      "1\n",
      "2\n",
      "3\n",
      "4\n",
      "5\n"
     ]
    }
   ],
   "source": [
    "x = 1\n",
    "\n",
    "while x<6:\n",
    "    print x\n",
    "    x+=1"
   ]
  },
  {
   "cell_type": "code",
   "execution_count": 1,
   "metadata": {
    "collapsed": false
   },
   "outputs": [
    {
     "name": "stdout",
     "output_type": "stream",
     "text": [
      "Enter a number: 5\n",
      "120\n"
     ]
    }
   ],
   "source": [
    "number = input(\"Enter a number: \")\n",
    "factorial = 1\n",
    "for x in range(1,number+1):\n",
    "    factorial *= x\n",
    "print factorial\n",
    "\n",
    "    "
   ]
  },
  {
   "cell_type": "code",
   "execution_count": 4,
   "metadata": {
    "collapsed": false
   },
   "outputs": [
    {
     "name": "stdout",
     "output_type": "stream",
     "text": [
      "Enter a number: 5\n",
      "120\n"
     ]
    }
   ],
   "source": [
    "number = input(\"Enter a number: \")\n",
    "factorial = 1\n",
    "x = 1\n",
    "while x <=number:\n",
    "    factorial*=x\n",
    "    x+=1\n",
    "print factorial"
   ]
  },
  {
   "cell_type": "code",
   "execution_count": 9,
   "metadata": {
    "collapsed": false
   },
   "outputs": [
    {
     "name": "stdout",
     "output_type": "stream",
     "text": [
      "Enter length of first side: 4\n",
      "Enter length of second side: 4\n",
      "Enter length of third side: 4\n",
      "\n",
      "Triangle is an equilateral triangle\n"
     ]
    }
   ],
   "source": [
    "first = input(\"Enter length of first side: \")\n",
    "second = input(\"Enter length of second side: \")\n",
    "third = input(\"Enter length of third side: \")\n",
    "\n",
    "if (first == second == third):\n",
    "    print '\\nTriangle is an equilateral triangle'\n",
    "elif (first == second or first == third or second == third):\n",
    "    print '\\nTriangle is an isosceles triangle'\n",
    "else:\n",
    "    print '\\nTriangle is neither isosceles or equilateral'"
   ]
  },
  {
   "cell_type": "code",
   "execution_count": 14,
   "metadata": {
    "collapsed": false
   },
   "outputs": [
    {
     "name": "stdout",
     "output_type": "stream",
     "text": [
      "Enter length of base side: 7\n",
      "Enter length of height side: 24\n",
      "Enter length of hypotenuse side: 25\n",
      "Right angled triangle\n"
     ]
    }
   ],
   "source": [
    "base = input(\"Enter length of base side: \")\n",
    "height = input(\"Enter length of height side: \")\n",
    "hypotenuse = input(\"Enter length of hypotenuse side: \")\n",
    "\n",
    "if (base**2) +(height**2) == hypotenuse ** 2:\n",
    "    print 'Right angled triangle'\n",
    "else:\n",
    "    print 'Not a right angled triangle'"
   ]
  },
  {
   "cell_type": "code",
   "execution_count": null,
   "metadata": {
    "collapsed": true
   },
   "outputs": [],
   "source": []
  },
  {
   "cell_type": "code",
   "execution_count": null,
   "metadata": {
    "collapsed": true
   },
   "outputs": [],
   "source": []
  },
  {
   "cell_type": "code",
   "execution_count": null,
   "metadata": {
    "collapsed": true
   },
   "outputs": [],
   "source": []
  }
 ],
 "metadata": {
  "anaconda-cloud": {},
  "kernelspec": {
   "display_name": "Python [default]",
   "language": "python",
   "name": "python2"
  },
  "language_info": {
   "codemirror_mode": {
    "name": "ipython",
    "version": 2
   },
   "file_extension": ".py",
   "mimetype": "text/x-python",
   "name": "python",
   "nbconvert_exporter": "python",
   "pygments_lexer": "ipython2",
   "version": "2.7.12"
  }
 },
 "nbformat": 4,
 "nbformat_minor": 1
}
